{
 "cells": [
  {
   "cell_type": "code",
   "execution_count": 1,
   "metadata": {},
   "outputs": [],
   "source": [
    "%matplotlib inline\n",
    "import numpy as np\n",
    "import pandas as pd\n",
    "\n",
    "from sklearn.feature_extraction import DictVectorizer\n",
    "from sklearn.preprocessing import StandardScaler\n",
    "from sklearn.neighbors import KNeighborsRegressor\n",
    "from sklearn.ensemble import RandomForestClassifier\n",
    "from sklearn.pipeline import Pipeline\n",
    "from sklearn.model_selection import cross_val_score\n",
    "from sklearn.neighbors import KNeighborsClassifier\n",
    "from sklearn.feature_extraction.text import TfidfVectorizer\n",
    "from sklearn.preprocessing import MultiLabelBinarizer\n",
    "from sklearn.metrics import confusion_matrix\n",
    "\n",
    "import warnings\n",
    "warnings.filterwarnings(\"ignore\")"
   ]
  },
  {
   "cell_type": "code",
   "execution_count": 2,
   "metadata": {},
   "outputs": [],
   "source": [
    "oscar_movies = pd.read_csv(\"./oscar_movies.csv\")\n",
    "oscar_movies.Runtime = oscar_movies.Runtime.str.split(\" \").str[0].fillna(0).astype(int)"
   ]
  },
  {
   "cell_type": "markdown",
   "metadata": {},
   "source": [
    "#### In our DataFrame, we have 2 columns, Genre and tag that are lists represented as strings. In order to do any predictions with using these variables as features, we must use a binarizer to dummify the variables. We then concatenate them with our main DataFrame."
   ]
  },
  {
   "cell_type": "code",
   "execution_count": 3,
   "metadata": {},
   "outputs": [],
   "source": [
    "binarizer = MultiLabelBinarizer()\n",
    "genres = pd.DataFrame(\n",
    "    binarizer.fit_transform(oscar_movies[\"Genre\"].astype(str).str.replace(\" \", \"\").str.split(\",\")),\n",
    "    columns=binarizer.classes_\n",
    ")\n",
    "binarizer = MultiLabelBinarizer()\n",
    "tags = pd.DataFrame(\n",
    "    binarizer.fit_transform(oscar_movies[\"tag\"].astype(str).str.replace(\" \", \"\").str.split(\",\")),\n",
    "    columns=binarizer.classes_\n",
    ")"
   ]
  },
  {
   "cell_type": "code",
   "execution_count": 4,
   "metadata": {},
   "outputs": [],
   "source": [
    "movies_dummies = pd.concat([oscar_movies, genres], axis=1)\n",
    "movies_dummies = pd.concat([movies_dummies, tags], axis=1)"
   ]
  },
  {
   "cell_type": "markdown",
   "metadata": {},
   "source": [
    "#### Here are the functions we use to create models"
   ]
  },
  {
   "cell_type": "code",
   "execution_count": 5,
   "metadata": {},
   "outputs": [],
   "source": [
    "def get_f1_score(k):\n",
    "    X_dict = movies_dummies[features].to_dict(orient=\"records\")\n",
    "    y = movies_dummies[\"winner\"]\n",
    "    vec = DictVectorizer(sparse=False)\n",
    "    scaler = StandardScaler()\n",
    "    model = KNeighborsClassifier(n_neighbors=k)\n",
    "    pipeline = Pipeline([(\"vectorizer\", vec), (\"scaler\", scaler), (\"fit\", model)])\n",
    "    return cross_val_score(pipeline, X_dict, y, \n",
    "                           cv=10, scoring=\"f1_weighted\").mean()"
   ]
  },
  {
   "cell_type": "code",
   "execution_count": 6,
   "metadata": {},
   "outputs": [],
   "source": [
    "def knn(year, k):\n",
    "    train_df = movies_dummies[movies_dummies[\"year\"] != year]\n",
    "    test_df = movies_dummies[movies_dummies[\"year\"] == year]\n",
    "    \n",
    "    X_train_dict = train_df[features].to_dict(orient=\"records\")\n",
    "    X_new_dict = test_df[features].to_dict(orient=\"records\")\n",
    "    y_train = train_df[\"winner\"]\n",
    "    \n",
    "    vec = DictVectorizer(sparse=False)\n",
    "    vec.fit(X_train_dict)\n",
    "    X_train = vec.transform(X_train_dict)\n",
    "    X_new = vec.transform(X_new_dict)\n",
    "\n",
    "    # Standardization\n",
    "    scaler = StandardScaler()\n",
    "    scaler.fit(X_train)\n",
    "    X_train_sc = scaler.transform(X_train)\n",
    "    X_new_sc = scaler.transform(X_new)\n",
    "\n",
    "    # machine learning model\n",
    "    model = KNeighborsClassifier(n_neighbors=k)\n",
    "    model.fit(X_train_sc, y_train)\n",
    "    \n",
    "    return model.predict(X_new_sc)"
   ]
  },
  {
   "cell_type": "code",
   "execution_count": 7,
   "metadata": {},
   "outputs": [],
   "source": [
    "def get_f1_rand_forest(n):\n",
    "    y = movies_dummies[\"winner\"]\n",
    "    X_dict = movies_dummies[features].to_dict(orient=\"records\")\n",
    "    vec = DictVectorizer(sparse=False)\n",
    "    scaler = StandardScaler()\n",
    "    model = RandomForestClassifier(n_estimators=n, \n",
    "                                max_depth=15, \n",
    "                              min_samples_leaf=10)\n",
    "\n",
    "    pipeline = Pipeline([(\"vectorizer\", vec), (\"scaler\", scaler), (\"fit\", model)])\n",
    "    return cross_val_score(pipeline,X_dict,  y, \n",
    "                cv=10, scoring=\"f1_weighted\").mean()"
   ]
  },
  {
   "cell_type": "code",
   "execution_count": 8,
   "metadata": {},
   "outputs": [],
   "source": [
    "def randomForest(year, n):\n",
    "    train_df = movies_dummies[movies_dummies[\"year\"] != year]\n",
    "    test_df = movies_dummies[movies_dummies[\"year\"] == year]\n",
    "    \n",
    "    X_train_dict = train_df[features].to_dict(orient=\"records\")\n",
    "    X_new_dict = test_df[features].to_dict(orient=\"records\")\n",
    "    y_train = train_df[\"winner\"]\n",
    "    \n",
    "    vec = DictVectorizer(sparse=False)\n",
    "    vec.fit(X_train_dict)\n",
    "    X_train = vec.transform(X_train_dict)\n",
    "    X_new = vec.transform(X_new_dict)\n",
    "\n",
    "    # Standardization\n",
    "    scaler = StandardScaler()\n",
    "    scaler.fit(X_train)\n",
    "    X_train_sc = scaler.transform(X_train)\n",
    "    X_new_sc = scaler.transform(X_new)\n",
    "\n",
    "    # machine learning model\n",
    "    model = RandomForestClassifier(n_estimators=n, \n",
    "                                  max_depth=15, \n",
    "                                  min_samples_leaf=10, \n",
    "                                  oob_score=True)\n",
    "    model.fit(X_train_sc, y_train)\n",
    "    \n",
    "    pred = model.predict(X_new_sc)\n",
    "    \n",
    "    return pred"
   ]
  },
  {
   "cell_type": "code",
   "execution_count": 9,
   "metadata": {},
   "outputs": [],
   "source": [
    "from sklearn.base import ClassifierMixin\n",
    "from sklearn.base import BaseEstimator\n",
    "from sklearn.pipeline import make_pipeline\n",
    "from sklearn.utils.validation import check_X_y, check_array, check_is_fitted\n",
    "\n",
    "class ClassificationEnsembler(BaseEstimator, ClassifierMixin):\n",
    "    \n",
    "    def __init__(self, estimators, learn_weights=False):\n",
    "        self.estimators = estimators\n",
    "        self.learn_weights = learn_weights\n",
    "        \n",
    "    def fit(self, X, y):\n",
    "        # check that X and y have the correct shape\n",
    "        X, y = check_X_y(X, y)\n",
    "        \n",
    "        # store the training features and the labels\n",
    "        self.X_ = X\n",
    "        self.y_ = y\n",
    "        \n",
    "        # call the fit method of each of the estimators\n",
    "        for estimator in self.estimators:\n",
    "            estimator.fit(X, y)\n",
    "            \n",
    "        # if we wish to learn the \"optimal\" weights from the training data\n",
    "        if self.learn_weights:\n",
    "            # get prediction from each estimator on the training data\n",
    "            predictions = []\n",
    "            for estimator in self.estimators:\n",
    "                predictions.append(estimator.predict(X))\n",
    "            Y_ = np.column_stack(predictions)\n",
    "        \n",
    "            # fit linear regression on top of the estimators' predictions\n",
    "            self.ensembler = LinearRegression(fit_intercept=False)\n",
    "            self.ensembler.fit(Y_, y)\n",
    "            \n",
    "        return self\n",
    "    \n",
    "    def predict(self, X):\n",
    "        # check that fit has been called\n",
    "        check_is_fitted(self, ['X_', 'y_'])\n",
    "        \n",
    "        # check that X has the right form\n",
    "        X = check_array(X)\n",
    "        \n",
    "        # calculate predictions from the estimators\n",
    "        predictions = []\n",
    "        for estimator in self.estimators:\n",
    "            predictions.append(estimator.predict(X))\n",
    "        Y_ = np.column_stack(predictions)\n",
    "        \n",
    "        P = pd.Series()\n",
    "        for p in Y_:\n",
    "            P = P.append(pd.Series(pd.Series(p).value_counts().index[0]))\n",
    "        \n",
    "        return P.values"
   ]
  },
  {
   "cell_type": "markdown",
   "metadata": {},
   "source": [
    "### K-nearest neighbors"
   ]
  },
  {
   "cell_type": "code",
   "execution_count": 10,
   "metadata": {},
   "outputs": [
    {
     "data": {
      "text/plain": [
       "6     0.765204\n",
       "96    0.757691\n",
       "91    0.757691\n",
       "16    0.757691\n",
       "21    0.757691\n",
       "dtype: float64"
      ]
     },
     "execution_count": 10,
     "metadata": {},
     "output_type": "execute_result"
    },
    {
     "data": {
      "image/png": "[encoded data removed]",
      "text/plain": [
       "<Figure size 432x288 with 1 Axes>"
      ]
     },
     "metadata": {
      "needs_background": "light"
     },
     "output_type": "display_data"
    }
   ],
   "source": [
    "movies_dummies.imdbRating.fillna(\"\", inplace=True)\n",
    "movies_dummies.Runtime.fillna(\"\", inplace=True)\n",
    "features = [\"imdbRating\"] + (list(genres.columns))\n",
    "ks = pd.Series(range(1, 100, 5))\n",
    "ks.index = range(1, 100, 5)\n",
    "test_errs = ks.apply(get_f1_score)\n",
    "\n",
    "test_errs.plot.line()\n",
    "test_errs.sort_values(ascending=False).head()"
   ]
  },
  {
   "cell_type": "code",
   "execution_count": 11,
   "metadata": {},
   "outputs": [
    {
     "data": {
      "text/plain": [
       "array([ True, False, False, False, False, False, False, False, False], dtype=bool)"
      ]
     },
     "execution_count": 11,
     "metadata": {},
     "output_type": "execute_result"
    }
   ],
   "source": [
    "year = 2013\n",
    "knn(year, 6)"
   ]
  },
  {
   "cell_type": "markdown",
   "metadata": {},
   "source": [
    "#### For the 2013 Oscars, our model correctly predicted the winner"
   ]
  },
  {
   "cell_type": "code",
   "execution_count": 12,
   "metadata": {},
   "outputs": [
    {
     "data": {
      "text/plain": [
       "16    0.870962\n",
       "21    0.864617\n",
       "6     0.860695\n",
       "11    0.853164\n",
       "26    0.842492\n",
       "dtype: float64"
      ]
     },
     "execution_count": 12,
     "metadata": {},
     "output_type": "execute_result"
    },
    {
     "data": {
      "image/png": "[encoded data removed]",
      "text/plain": [
       "<Figure size 432x288 with 1 Axes>"
      ]
     },
     "metadata": {
      "needs_background": "light"
     },
     "output_type": "display_data"
    }
   ],
   "source": [
    "features = [\"BAFTA\", \"NBRA\", \"SATELLITE\", \"DGA\", \"GOLDENGLOBE\", \"imdbRating\"]\n",
    "\n",
    "ks = pd.Series(range(1, 100, 5))\n",
    "ks.index = range(1, 100, 5)\n",
    "test_errs = ks.apply(get_f1_score)\n",
    "\n",
    "test_errs.plot.line()\n",
    "test_errs.sort_values(ascending=False).head()"
   ]
  },
  {
   "cell_type": "code",
   "execution_count": 13,
   "metadata": {},
   "outputs": [
    {
     "data": {
      "text/plain": [
       "array([ True, False, False, False, False, False, False, False, False], dtype=bool)"
      ]
     },
     "execution_count": 13,
     "metadata": {},
     "output_type": "execute_result"
    }
   ],
   "source": [
    "year = 2012\n",
    "knn(year, 16)"
   ]
  },
  {
   "cell_type": "markdown",
   "metadata": {},
   "source": [
    "### Random Forest"
   ]
  },
  {
   "cell_type": "code",
   "execution_count": 14,
   "metadata": {},
   "outputs": [
    {
     "data": {
      "text/plain": [
       "41    0.884745\n",
       "11    0.873972\n",
       "51    0.873459\n",
       "31    0.872804\n",
       "21    0.872058\n",
       "dtype: float64"
      ]
     },
     "execution_count": 14,
     "metadata": {},
     "output_type": "execute_result"
    },
    {
     "data": {
      "image/png": "[encoded data removed]",
      "text/plain": [
       "<Figure size 432x288 with 1 Axes>"
      ]
     },
     "metadata": {
      "needs_background": "light"
     },
     "output_type": "display_data"
    }
   ],
   "source": [
    "features = [\"BAFTA\", \"NBRA\", \"SATELLITE\", \"DGA\", \"GOLDENGLOBE\", \"imdbRating\"]\n",
    "ks = pd.Series(range(1, 100, 10))\n",
    "ks.index = range(1, 100, 10)\n",
    "test_errs = ks.apply(get_f1_rand_forest)\n",
    "\n",
    "test_errs.plot.line()\n",
    "test_errs.sort_values(ascending=False).head()"
   ]
  },
  {
   "cell_type": "code",
   "execution_count": 15,
   "metadata": {},
   "outputs": [
    {
     "data": {
      "text/plain": [
       "array([False, False, False, False, False,  True, False, False, False], dtype=bool)"
      ]
     },
     "execution_count": 15,
     "metadata": {},
     "output_type": "execute_result"
    }
   ],
   "source": [
    "features = [\"BAFTA\", \"NBRA\", \"SATELLITE\", \"DGA\", \"GOLDENGLOBE\", \"imdbRating\"]\n",
    "year = 2018\n",
    "randomForest(year, 91)"
   ]
  },
  {
   "cell_type": "markdown",
   "metadata": {},
   "source": [
    "#### These are the predictions for the most recent Oscars. If it had predicted correctly, the True would have been the first element of the list."
   ]
  },
  {
   "cell_type": "code",
   "execution_count": 16,
   "metadata": {},
   "outputs": [
    {
     "data": {
      "text/plain": [
       "array([ True, False, False, False, False, False, False, False, False, False], dtype=bool)"
      ]
     },
     "execution_count": 16,
     "metadata": {},
     "output_type": "execute_result"
    }
   ],
   "source": [
    "features = [\"BAFTA\", \"NBRA\", \"SATELLITE\", \"DGA\", \"GOLDENGLOBE\", \"imdbRating\"]\n",
    "year = 2010\n",
    "randomForest(year, 61)"
   ]
  },
  {
   "cell_type": "markdown",
   "metadata": {},
   "source": [
    "#### However, the model predicted the correct winner for the 2010 Oscars."
   ]
  },
  {
   "cell_type": "markdown",
   "metadata": {},
   "source": [
    "### Ensemble Model"
   ]
  },
  {
   "cell_type": "code",
   "execution_count": 17,
   "metadata": {},
   "outputs": [],
   "source": [
    "features = [\"BAFTA\", \"NBRA\", \"SATELLITE\", \"DGA\", \"GOLDENGLOBE\", \"imdbRating\"]\n",
    "year = 2018\n",
    "train_df = movies_dummies[movies_dummies[\"year\"] != year]\n",
    "\n",
    "X_train = movies_dummies[features].to_dict(orient=\"records\")\n",
    "y_train = movies_dummies[\"winner\"].astype(str)\n",
    "\n",
    "vec = DictVectorizer(sparse=False)\n",
    "vec.fit(X_train)\n",
    "X_train = vec.transform(X_train)\n",
    "model1 = make_pipeline(StandardScaler(), \n",
    "                       KNeighborsClassifier(n_neighbors=16))\n",
    "\n",
    "model2 = make_pipeline(StandardScaler(), \n",
    "                       RandomForestClassifier(n_estimators=61, \n",
    "                                              max_depth=15, \n",
    "                                              min_samples_leaf=10))\n",
    "\n",
    "model1.fit(X_train, y_train);\n",
    "model2.fit(X_train, y_train);"
   ]
  },
  {
   "cell_type": "code",
   "execution_count": 18,
   "metadata": {},
   "outputs": [
    {
     "data": {
      "text/plain": [
       "(0.87096234823706931,\n",
       " 0.87355015651417567,\n",
       " 0.87805147432669206,\n",
       " 0.87592971280738752)"
      ]
     },
     "execution_count": 18,
     "metadata": {},
     "output_type": "execute_result"
    }
   ],
   "source": [
    "(\n",
    "    cross_val_score(model1, X_train, y_train,\n",
    "                     cv=10, scoring=\"f1_weighted\").mean(),\n",
    "    cross_val_score(model2, X_train, y_train,\n",
    "                     cv=10, scoring=\"f1_weighted\").mean(),\n",
    "    cross_val_score(ClassificationEnsembler([model1, model2], learn_weights=False), X_train, y_train,\n",
    "                     cv=10, scoring=\"f1_weighted\").mean(),\n",
    "    cross_val_score(ClassificationEnsembler([model1, model2], learn_weights=False), X_train, y_train,\n",
    "                     cv=10, scoring=\"f1_weighted\").mean()\n",
    ")"
   ]
  },
  {
   "cell_type": "markdown",
   "metadata": {},
   "source": [
    "#### Below, we recreated the code to predict so we could make a confusion matrix to get an idea of how well our model performed."
   ]
  },
  {
   "cell_type": "code",
   "execution_count": 19,
   "metadata": {},
   "outputs": [
    {
     "data": {
      "text/plain": [
       "array([[ 55,  38],\n",
       "       [ 16, 449]])"
      ]
     },
     "execution_count": 19,
     "metadata": {},
     "output_type": "execute_result"
    }
   ],
   "source": [
    "features = [\"BAFTA\", \"NBRA\", \"SATELLITE\", \"DGA\", \"GOLDENGLOBE\", \"imdbRating\"]\n",
    "\n",
    "y_train = movies_dummies[\"winner\"]\n",
    "X_train = movies_dummies[features].to_dict(orient=\"records\")\n",
    "\n",
    "vec = DictVectorizer(sparse=False)\n",
    "vec.fit(X_train)\n",
    "X_train = vec.transform(X_train)\n",
    "\n",
    "scaler = StandardScaler()\n",
    "scaler.fit(X_train)\n",
    "X_train_sc = scaler.transform(X_train)\n",
    "\n",
    "model = KNeighborsClassifier(n_neighbors=7)\n",
    "model.fit(X_train_sc, y_train)\n",
    "\n",
    "y_train_pred = model.predict(X_train_sc)\n",
    "y_train_pred\n",
    "\n",
    "mat = confusion_matrix(y_train, y_train_pred, labels=[True, False])\n",
    "mat"
   ]
  },
  {
   "cell_type": "markdown",
   "metadata": {},
   "source": [
    "#### From looking at this confusion matrix, we can tell that this model correctly predicted 55 winners and 449 losers."
   ]
  },
  {
   "cell_type": "code",
   "execution_count": 20,
   "metadata": {},
   "outputs": [
    {
     "data": {
      "text/plain": [
       "(0.77464788732394363, 0.59139784946236562)"
      ]
     },
     "execution_count": 20,
     "metadata": {},
     "output_type": "execute_result"
    }
   ],
   "source": [
    "precision = mat[0][0] / (mat[0][0] + mat[1][0])\n",
    "recall = mat[0][0] / (mat[0][0] + mat[0][1])\n",
    "precision, recall"
   ]
  },
  {
   "cell_type": "markdown",
   "metadata": {},
   "source": [
    "#### Of the winners, 77% were predicted to be winners (precision).\n",
    "\n",
    "#### Of the movies predicted to be winners, 59% were actually winners (recall)."
   ]
  },
  {
   "cell_type": "markdown",
   "metadata": {},
   "source": [
    "### Just for fun ... we tried to predict the winner for next year's Oscar"
   ]
  },
  {
   "cell_type": "code",
   "execution_count": 21,
   "metadata": {},
   "outputs": [],
   "source": [
    "movies_2019 = pd.read_csv(\"./movies_2019.csv\")\n",
    "movies_dummies = pd.concat([oscar_movies, movies_2019], axis=0)\n",
    "movies_dummies = movies_dummies.reset_index(drop=True)\n",
    "\n",
    "binarizer = MultiLabelBinarizer()\n",
    "genres = pd.DataFrame(\n",
    "    binarizer.fit_transform(movies_dummies[\"Genre\"].astype(str).str.replace(\" \", \"\").str.split(\",\")),\n",
    "    columns=binarizer.classes_\n",
    ")\n",
    "movies_dummies = pd.concat([movies_dummies, genres], axis=1)"
   ]
  },
  {
   "cell_type": "code",
   "execution_count": 22,
   "metadata": {},
   "outputs": [],
   "source": [
    "def knn_2019():\n",
    "    \n",
    "    X_train_dict = features_train.to_dict(orient=\"records\")\n",
    "    X_new_dict = features_test.to_dict(orient=\"records\")\n",
    "    y_train = train_df[\"winner\"]\n",
    "    \n",
    "    vec = DictVectorizer(sparse=False)\n",
    "    vec.fit(X_train_dict)\n",
    "    X_train = vec.transform(X_train_dict)\n",
    "    X_new = vec.transform(X_new_dict)\n",
    "\n",
    "    # Standardization\n",
    "    scaler = StandardScaler()\n",
    "    scaler.fit(X_train)\n",
    "    X_train_sc = scaler.transform(X_train)\n",
    "    X_new_sc = scaler.transform(X_new)\n",
    "    X_new_sc = np.nan_to_num(X_new_sc)\n",
    "\n",
    "    # machine learning model\n",
    "    model = KNeighborsClassifier(n_neighbors=6)\n",
    "    model.fit(X_train_sc, y_train)\n",
    "    \n",
    "    return model.predict(X_new_sc)"
   ]
  },
  {
   "cell_type": "code",
   "execution_count": 23,
   "metadata": {},
   "outputs": [],
   "source": [
    "movies_dummies.imdbRating.fillna(0, inplace=True)\n",
    "    \n",
    "train_df = movies_dummies.loc[:556]\n",
    "test_df = movies_dummies.loc[556:]\n",
    "\n",
    "features = [\"imdbRating\"] + (list(genres.columns))"
   ]
  },
  {
   "cell_type": "code",
   "execution_count": 24,
   "metadata": {},
   "outputs": [
    {
     "data": {
      "text/plain": [
       "array([False, False, False, False, False, False, False, False, False,\n",
       "       False, False, False, False, False, False, False, False, False,\n",
       "       False, False, False, False, False, False, False, False, False,\n",
       "       False, False, False, False, False, False, False, False, False,\n",
       "       False, False, False, False, False, False, False, False, False,\n",
       "       False, False, False, False, False, False, False, False, False,\n",
       "       False, False, False, False, False, False, False, False, False,\n",
       "       False, False, False, False, False, False, False, False, False,\n",
       "       False, False, False, False, False, False, False, False], dtype=bool)"
      ]
     },
     "execution_count": 24,
     "metadata": {},
     "output_type": "execute_result"
    }
   ],
   "source": [
    "tfidf = TfidfVectorizer(max_features=300)\n",
    "\n",
    "words = tfidf.fit_transform(train_df[\"Plot\"].fillna(\"\"))\n",
    "words_df = pd.DataFrame(np.array(words.todense()))\n",
    "features_train = pd.concat([train_df[features], words_df], axis=1)\n",
    "features_train.columns = features_train.columns.astype(str)\n",
    "\n",
    "testwords = tfidf.transform(test_df[\"Plot\"].fillna(\"\"))\n",
    "test_words_df = pd.DataFrame(np.array(testwords.todense()))\n",
    "features_test = pd.concat([test_df[features], test_words_df], axis=1)\n",
    "features_test.columns = features_test.columns.astype(str)\n",
    "\n",
    "train_df.fillna(\"\", inplace=True)\n",
    "test_df.fillna(\"\", inplace=True)\n",
    "knn_2019()"
   ]
  },
  {
   "cell_type": "code",
   "execution_count": 25,
   "metadata": {},
   "outputs": [
    {
     "data": {
      "text/plain": [
       "array([False, False, False, False, False, False, False, False, False,\n",
       "       False, False, False, False, False, False, False, False, False,\n",
       "       False, False, False, False, False, False, False, False, False,\n",
       "       False, False, False, False, False, False, False, False, False,\n",
       "       False, False, False, False, False, False, False, False, False,\n",
       "       False, False, False, False, False, False, False, False, False,\n",
       "       False, False, False, False, False, False, False, False, False,\n",
       "       False, False, False, False, False, False, False, False, False,\n",
       "       False, False, False, False, False, False, False, False], dtype=bool)"
      ]
     },
     "execution_count": 25,
     "metadata": {},
     "output_type": "execute_result"
    }
   ],
   "source": [
    "train_df = movies_dummies.loc[:556]\n",
    "test_df = movies_dummies.loc[556:]\n",
    "features = (list(genres.columns))\n",
    "train_df.fillna(\"\", inplace=True)\n",
    "test_df.fillna(\"\", inplace=True)\n",
    "knn_2019()"
   ]
  },
  {
   "cell_type": "markdown",
   "metadata": {},
   "source": [
    "#### Unfortunatley, the only relevent information we can obtain for the upcoming movies are genres and plot, so we were not able to create a good enough model to predict the Oscar winner for next year"
   ]
  },
  {
   "cell_type": "markdown",
   "metadata": {},
   "source": [
    "# Results:\n",
    "\n",
    "### Knearest Neighbor Results:\n",
    "\n",
    "- The best F1 Score was 87% and occoured using 16 nearest neighbors.\n",
    "- Features : BAFTA, NBRA, SATELLITE, DGA, GOLDENGLOBE, imdbRating\n",
    "\n",
    "### Random Forest Classification:\n",
    "\n",
    "- The best F1 Score was 87%\n",
    "- Features: BAFTA, NBRA, SATELLITE, DGA, GOLDENGLOBE, imdbRating\n",
    "\n",
    "### Ensembler Model:\n",
    "- The best F1 Score was 87% and was an Ensemble of KNN and Random Forest\n",
    "- Features: BAFTA, NBRA, SATELLITE, DGA, GOLDENGLOBE, imdbRating\n",
    "\n",
    "Across the different models, we were getting very consistent F1 Scores.\n",
    "\n",
    "We looked at using other combinations of features, but they just predicting every movie to not be a winner.\n",
    "\n",
    "### Predicting Future Results:\n",
    "With the data we have, we concluded that we cannot predict future winners of the Oscars at this point since a big part of our success was using information of what movies won other award shows. If we were to create a model right before the next Oscar awards occurred, we predict that we would have much higher success."
   ]
  },
  {
   "cell_type": "code",
   "execution_count": null,
   "metadata": {},
   "outputs": [],
   "source": []
  }
 ],
 "metadata": {
  "kernelspec": {
   "display_name": "Python 3",
   "language": "python",
   "name": "python3"
  },
  "language_info": {
   "codemirror_mode": {
    "name": "ipython",
    "version": 3
   },
   "file_extension": ".py",
   "mimetype": "text/x-python",
   "name": "python",
   "nbconvert_exporter": "python",
   "pygments_lexer": "ipython3",
   "version": "3.6.8"
  }
 },
 "nbformat": 4,
 "nbformat_minor": 2
}
