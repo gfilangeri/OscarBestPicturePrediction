{
 "cells": [
  {
   "cell_type": "code",
   "execution_count": 1,
   "metadata": {},
   "outputs": [],
   "source": [
    "%matplotlib inline\n",
    "import numpy as np\n",
    "import pandas as pd\n",
    "from sklearn.feature_extraction import DictVectorizer\n",
    "from sklearn.preprocessing import StandardScaler\n",
    "from sklearn.neighbors import KNeighborsRegressor\n",
    "from sklearn.ensemble import RandomForestClassifier\n",
    "from sklearn.pipeline import Pipeline\n",
    "from sklearn.model_selection import cross_val_score\n",
    "from collections import Counter\n",
    "from sklearn.feature_extraction.text import CountVectorizer\n",
    "from sklearn.neighbors import KNeighborsClassifier\n",
    "from sklearn.metrics import precision_score, recall_score\n",
    "from sklearn.metrics import accuracy_score\n",
    "from sklearn.metrics import f1_score\n",
    "from sklearn.feature_extraction.text import TfidfVectorizer\n",
    "\n",
    "from sklearn.preprocessing import MultiLabelBinarizer\n",
    "\n",
    "import warnings\n",
    "warnings.filterwarnings(\"ignore\")"
   ]
  },
  {
   "cell_type": "code",
   "execution_count": 2,
   "metadata": {},
   "outputs": [
    {
     "data": {
      "text/html": [
       "<div>\n",
       "<style scoped>\n",
       "    .dataframe tbody tr th:only-of-type {\n",
       "        vertical-align: middle;\n",
       "    }\n",
       "\n",
       "    .dataframe tbody tr th {\n",
       "        vertical-align: top;\n",
       "    }\n",
       "\n",
       "    .dataframe thead th {\n",
       "        text-align: right;\n",
       "    }\n",
       "</style>\n",
       "<table border=\"1\" class=\"dataframe\">\n",
       "  <thead>\n",
       "    <tr style=\"text-align: right;\">\n",
       "      <th></th>\n",
       "      <th>Title</th>\n",
       "      <th>producers</th>\n",
       "      <th>winner</th>\n",
       "      <th>year</th>\n",
       "      <th>Actors</th>\n",
       "      <th>Awards</th>\n",
       "      <th>Country</th>\n",
       "      <th>Director</th>\n",
       "      <th>Genre</th>\n",
       "      <th>Language</th>\n",
       "      <th>...</th>\n",
       "      <th>Year</th>\n",
       "      <th>imdbID</th>\n",
       "      <th>imdbRating</th>\n",
       "      <th>imdbVotes</th>\n",
       "      <th>BAFTA</th>\n",
       "      <th>NBRA</th>\n",
       "      <th>GOLDENGLOBE</th>\n",
       "      <th>SATELLITE</th>\n",
       "      <th>DGA</th>\n",
       "      <th>tag</th>\n",
       "    </tr>\n",
       "  </thead>\n",
       "  <tbody>\n",
       "    <tr>\n",
       "      <th>0</th>\n",
       "      <td>Wings</td>\n",
       "      <td>['Paramount Famous Lasky']</td>\n",
       "      <td>True</td>\n",
       "      <td>1927</td>\n",
       "      <td>Clara Bow, Charles 'Buddy' Rogers, Richard Arl...</td>\n",
       "      <td>Won 2 Oscars. Another 3 wins &amp; 1 nomination.</td>\n",
       "      <td>USA</td>\n",
       "      <td>William A. Wellman, Harry d'Abbadie d'Arrast</td>\n",
       "      <td>Drama, Romance, War, Action</td>\n",
       "      <td>English</td>\n",
       "      <td>...</td>\n",
       "      <td>1927</td>\n",
       "      <td>tt0018578</td>\n",
       "      <td>7.7</td>\n",
       "      <td>9,884</td>\n",
       "      <td>False</td>\n",
       "      <td>False</td>\n",
       "      <td>False</td>\n",
       "      <td>False</td>\n",
       "      <td>False</td>\n",
       "      <td>none</td>\n",
       "    </tr>\n",
       "    <tr>\n",
       "      <th>1</th>\n",
       "      <td>The Racket</td>\n",
       "      <td>['The Caddo Company']</td>\n",
       "      <td>False</td>\n",
       "      <td>1927</td>\n",
       "      <td>Robert Mitchum, Lizabeth Scott, Robert Ryan, W...</td>\n",
       "      <td>NaN</td>\n",
       "      <td>USA</td>\n",
       "      <td>John Cromwell, Mel Ferrer, Tay Garnett, Nichol...</td>\n",
       "      <td>Crime, Drama, Film-Noir</td>\n",
       "      <td>English</td>\n",
       "      <td>...</td>\n",
       "      <td>1951</td>\n",
       "      <td>tt0043955</td>\n",
       "      <td>6.8</td>\n",
       "      <td>2,056</td>\n",
       "      <td>False</td>\n",
       "      <td>False</td>\n",
       "      <td>False</td>\n",
       "      <td>False</td>\n",
       "      <td>False</td>\n",
       "      <td>none</td>\n",
       "    </tr>\n",
       "    <tr>\n",
       "      <th>2</th>\n",
       "      <td>7th Heaven</td>\n",
       "      <td>['Fox']</td>\n",
       "      <td>False</td>\n",
       "      <td>1927</td>\n",
       "      <td>Stephen Collins, Catherine Hicks, Beverley Mit...</td>\n",
       "      <td>Nominated for 1 Primetime Emmy. Another 20 win...</td>\n",
       "      <td>USA</td>\n",
       "      <td>NaN</td>\n",
       "      <td>Drama, Family, Romance</td>\n",
       "      <td>English</td>\n",
       "      <td>...</td>\n",
       "      <td>1996–2007</td>\n",
       "      <td>tt0115083</td>\n",
       "      <td>5.2</td>\n",
       "      <td>22,707</td>\n",
       "      <td>False</td>\n",
       "      <td>False</td>\n",
       "      <td>False</td>\n",
       "      <td>False</td>\n",
       "      <td>False</td>\n",
       "      <td>none</td>\n",
       "    </tr>\n",
       "    <tr>\n",
       "      <th>3</th>\n",
       "      <td>The Broadway Melody</td>\n",
       "      <td>['Metro-Goldwyn-Mayer']</td>\n",
       "      <td>True</td>\n",
       "      <td>1928</td>\n",
       "      <td>Charles King, Anita Page, Bessie Love</td>\n",
       "      <td>Won 1 Oscar. Another 2 nominations.</td>\n",
       "      <td>USA</td>\n",
       "      <td>Harry Beaumont</td>\n",
       "      <td>Drama, Musical, Romance</td>\n",
       "      <td>English</td>\n",
       "      <td>...</td>\n",
       "      <td>1929</td>\n",
       "      <td>tt0019729</td>\n",
       "      <td>6.2</td>\n",
       "      <td>5,601</td>\n",
       "      <td>False</td>\n",
       "      <td>False</td>\n",
       "      <td>False</td>\n",
       "      <td>False</td>\n",
       "      <td>False</td>\n",
       "      <td>none</td>\n",
       "    </tr>\n",
       "    <tr>\n",
       "      <th>4</th>\n",
       "      <td>Alibi</td>\n",
       "      <td>['Feature Productions']</td>\n",
       "      <td>False</td>\n",
       "      <td>1928</td>\n",
       "      <td>Achmed Akkabi, Georgina Verbaan, Frederik Brom...</td>\n",
       "      <td>1 win.</td>\n",
       "      <td>Netherlands</td>\n",
       "      <td>Johan Nijenhuis</td>\n",
       "      <td>Comedy</td>\n",
       "      <td>Dutch</td>\n",
       "      <td>...</td>\n",
       "      <td>2008</td>\n",
       "      <td>tt0827170</td>\n",
       "      <td>5.7</td>\n",
       "      <td>796</td>\n",
       "      <td>False</td>\n",
       "      <td>False</td>\n",
       "      <td>False</td>\n",
       "      <td>False</td>\n",
       "      <td>False</td>\n",
       "      <td>none</td>\n",
       "    </tr>\n",
       "  </tbody>\n",
       "</table>\n",
       "<p>5 rows × 29 columns</p>\n",
       "</div>"
      ],
      "text/plain": [
       "                 Title                   producers  winner  year  \\\n",
       "0                Wings  ['Paramount Famous Lasky']    True  1927   \n",
       "1           The Racket       ['The Caddo Company']   False  1927   \n",
       "2           7th Heaven                     ['Fox']   False  1927   \n",
       "3  The Broadway Melody     ['Metro-Goldwyn-Mayer']    True  1928   \n",
       "4                Alibi     ['Feature Productions']   False  1928   \n",
       "\n",
       "                                              Actors  \\\n",
       "0  Clara Bow, Charles 'Buddy' Rogers, Richard Arl...   \n",
       "1  Robert Mitchum, Lizabeth Scott, Robert Ryan, W...   \n",
       "2  Stephen Collins, Catherine Hicks, Beverley Mit...   \n",
       "3              Charles King, Anita Page, Bessie Love   \n",
       "4  Achmed Akkabi, Georgina Verbaan, Frederik Brom...   \n",
       "\n",
       "                                              Awards      Country  \\\n",
       "0       Won 2 Oscars. Another 3 wins & 1 nomination.          USA   \n",
       "1                                                NaN          USA   \n",
       "2  Nominated for 1 Primetime Emmy. Another 20 win...          USA   \n",
       "3                Won 1 Oscar. Another 2 nominations.          USA   \n",
       "4                                             1 win.  Netherlands   \n",
       "\n",
       "                                            Director  \\\n",
       "0       William A. Wellman, Harry d'Abbadie d'Arrast   \n",
       "1  John Cromwell, Mel Ferrer, Tay Garnett, Nichol...   \n",
       "2                                                NaN   \n",
       "3                                     Harry Beaumont   \n",
       "4                                    Johan Nijenhuis   \n",
       "\n",
       "                         Genre Language  ...        Year     imdbID  \\\n",
       "0  Drama, Romance, War, Action  English  ...        1927  tt0018578   \n",
       "1      Crime, Drama, Film-Noir  English  ...        1951  tt0043955   \n",
       "2       Drama, Family, Romance  English  ...   1996–2007  tt0115083   \n",
       "3      Drama, Musical, Romance  English  ...        1929  tt0019729   \n",
       "4                       Comedy    Dutch  ...        2008  tt0827170   \n",
       "\n",
       "  imdbRating imdbVotes  BAFTA   NBRA  GOLDENGLOBE SATELLITE    DGA   tag  \n",
       "0        7.7     9,884  False  False        False     False  False  none  \n",
       "1        6.8     2,056  False  False        False     False  False  none  \n",
       "2        5.2    22,707  False  False        False     False  False  none  \n",
       "3        6.2     5,601  False  False        False     False  False  none  \n",
       "4        5.7       796  False  False        False     False  False  none  \n",
       "\n",
       "[5 rows x 29 columns]"
      ]
     },
     "execution_count": 2,
     "metadata": {},
     "output_type": "execute_result"
    }
   ],
   "source": [
    "oscar_movies = pd.read_csv(\"./oscar_movies.csv\")\n",
    "oscar_movies.head()"
   ]
  },
  {
   "cell_type": "markdown",
   "metadata": {},
   "source": [
    "In our DataFrame, we have 2 columns, Genre and tag that are lists represented as strings. In order to do any predictions with using these variables as features, we must use a binarizer to dummify the variables. We then concatenate them with our main DataFrame."
   ]
  },
  {
   "cell_type": "code",
   "execution_count": 3,
   "metadata": {},
   "outputs": [],
   "source": [
    "binarizer = MultiLabelBinarizer()\n",
    "genres = pd.DataFrame(\n",
    "    binarizer.fit_transform(oscar_movies[\"Genre\"].astype(str).str.split(\",\")),\n",
    "    columns=binarizer.classes_\n",
    ")\n",
    "binarizer = MultiLabelBinarizer()\n",
    "tags = pd.DataFrame(\n",
    "    binarizer.fit_transform(oscar_movies[\"tag\"].astype(str).str.split(\",\")),\n",
    "    columns=binarizer.classes_\n",
    ")"
   ]
  },
  {
   "cell_type": "code",
   "execution_count": 4,
   "metadata": {},
   "outputs": [],
   "source": [
    "movies_dummies = pd.concat([oscar_movies, genres], axis=1)\n",
    "movies_dummies = pd.concat([movies_dummies, tags], axis=1)"
   ]
  },
  {
   "cell_type": "markdown",
   "metadata": {},
   "source": [
    "Here are the functions we use to create models"
   ]
  },
  {
   "cell_type": "code",
   "execution_count": 5,
   "metadata": {},
   "outputs": [],
   "source": [
    "def get_f1_score(k):\n",
    "    X_dict = movies_dummies[features].to_dict(orient=\"records\")\n",
    "    y = movies_dummies[\"winner\"]\n",
    "    vec = DictVectorizer(sparse=False)\n",
    "    scaler = StandardScaler()\n",
    "    model = KNeighborsClassifier(n_neighbors=k)\n",
    "    pipeline = Pipeline([(\"vectorizer\", vec), (\"scaler\", scaler), (\"fit\", model)])\n",
    "    return cross_val_score(pipeline, X_dict, y, \n",
    "                           cv=10, scoring=\"f1_weighted\").mean()"
   ]
  },
  {
   "cell_type": "code",
   "execution_count": 6,
   "metadata": {},
   "outputs": [],
   "source": [
    "def knn(year, k):\n",
    "    train_df = movies_dummies[movies_dummies[\"year\"] != year]\n",
    "    test_df = movies_dummies[movies_dummies[\"year\"] == year]\n",
    "    \n",
    "    X_train_dict = train_df[features].to_dict(orient=\"records\")\n",
    "    X_new_dict = test_df[features].to_dict(orient=\"records\")\n",
    "    y_train = train_df[\"winner\"]\n",
    "    \n",
    "    vec = DictVectorizer(sparse=False)\n",
    "    vec.fit(X_train_dict)\n",
    "    X_train = vec.transform(X_train_dict)\n",
    "    X_new = vec.transform(X_new_dict)\n",
    "\n",
    "    # Standardization\n",
    "    scaler = StandardScaler()\n",
    "    scaler.fit(X_train)\n",
    "    X_train_sc = scaler.transform(X_train)\n",
    "    X_new_sc = scaler.transform(X_new)\n",
    "\n",
    "    # machine learning model\n",
    "    model = KNeighborsClassifier(n_neighbors=k)\n",
    "    model.fit(X_train_sc, y_train)\n",
    "    \n",
    "    return model.predict(X_new_sc)"
   ]
  },
  {
   "cell_type": "code",
   "execution_count": 7,
   "metadata": {},
   "outputs": [],
   "source": [
    "def get_accuracy_rand_forest(k):\n",
    "    y = movies_dummies[\"winner\"]\n",
    "    X_dict = movies_dummies[features].to_dict(orient=\"records\")\n",
    "    vec = DictVectorizer(sparse=False)\n",
    "    scaler = StandardScaler()\n",
    "    model = RandomForestClassifier(n_estimators=k, \n",
    "                                max_depth=15, \n",
    "                              min_samples_leaf=10)\n",
    "\n",
    "    pipeline = Pipeline([(\"vectorizer\", vec), (\"scaler\", scaler), (\"fit\", model)])\n",
    "    return cross_val_score(pipeline,X_dict,  y, \n",
    "                cv=10, scoring=\"accuracy\").mean()"
   ]
  },
  {
   "cell_type": "code",
   "execution_count": 8,
   "metadata": {},
   "outputs": [],
   "source": [
    "def randomForest(year):\n",
    "    train_df = movies_dummies[movies_dummies[\"year\"] != year]\n",
    "    test_df = movies_dummies[movies_dummies[\"year\"] == year]\n",
    "    \n",
    "    X_train_dict = train_df[features].to_dict(orient=\"records\")\n",
    "    X_new_dict = test_df[features].to_dict(orient=\"records\")\n",
    "    y_train = train_df[\"winner\"]\n",
    "    \n",
    "    vec = DictVectorizer(sparse=False)\n",
    "    vec.fit(X_train_dict)\n",
    "    X_train = vec.transform(X_train_dict)\n",
    "    X_new = vec.transform(X_new_dict)\n",
    "\n",
    "    # Standardization\n",
    "    scaler = StandardScaler()\n",
    "    scaler.fit(X_train)\n",
    "    X_train_sc = scaler.transform(X_train)\n",
    "    X_new_sc = scaler.transform(X_new)\n",
    "\n",
    "    # machine learning model\n",
    "    model = RandomForestClassifier(n_estimators=191, \n",
    "                                  max_depth=15, \n",
    "                                  min_samples_leaf=10, \n",
    "                                  oob_score=True)\n",
    "    model.fit(X_train_sc, y_train)\n",
    "    \n",
    "    return model.predict(X_new_sc)"
   ]
  },
  {
   "cell_type": "code",
   "execution_count": 9,
   "metadata": {},
   "outputs": [
    {
     "data": {
      "text/plain": [
       "6     0.769149\n",
       "96    0.757691\n",
       "91    0.757691\n",
       "16    0.757691\n",
       "21    0.757691\n",
       "dtype: float64"
      ]
     },
     "execution_count": 9,
     "metadata": {},
     "output_type": "execute_result"
    },
    {
     "data": {
      "image/png": "[encoded data removed]",
      "text/plain": [
       "<Figure size 432x288 with 1 Axes>"
      ]
     },
     "metadata": {
      "needs_background": "light"
     },
     "output_type": "display_data"
    }
   ],
   "source": [
    "movies_dummies.imdbRating.fillna(\"\", inplace=True)\n",
    "features = [\"imdbRating\"] + (list(genres.columns))\n",
    "ks = pd.Series(range(1, 100, 5))\n",
    "ks.index = range(1, 100, 5)\n",
    "test_errs = ks.apply(get_f1_score)\n",
    "\n",
    "test_errs.plot.line()\n",
    "test_errs.sort_values(ascending=False).head()"
   ]
  },
  {
   "cell_type": "markdown",
   "metadata": {},
   "source": [
    "We find that the optimal value for K is 6."
   ]
  },
  {
   "cell_type": "code",
   "execution_count": 10,
   "metadata": {},
   "outputs": [
    {
     "data": {
      "text/plain": [
       "array([ True, False, False, False, False, False, False, False, False])"
      ]
     },
     "execution_count": 10,
     "metadata": {},
     "output_type": "execute_result"
    }
   ],
   "source": [
    "year = 2013\n",
    "knn(year, 6)"
   ]
  },
  {
   "cell_type": "code",
   "execution_count": 11,
   "metadata": {},
   "outputs": [
    {
     "data": {
      "text/plain": [
       "16    0.870962\n",
       "21    0.864617\n",
       "6     0.860695\n",
       "11    0.853164\n",
       "26    0.842492\n",
       "dtype: float64"
      ]
     },
     "execution_count": 11,
     "metadata": {},
     "output_type": "execute_result"
    },
    {
     "data": {
      "image/png": "[encoded data removed]",
      "text/plain": [
       "<Figure size 432x288 with 1 Axes>"
      ]
     },
     "metadata": {
      "needs_background": "light"
     },
     "output_type": "display_data"
    }
   ],
   "source": [
    "features = [\"BAFTA\", \"NBRA\", \"SATELLITE\", \"DGA\", \"GOLDENGLOBE\", \"imdbRating\"]\n",
    "\n",
    "ks = pd.Series(range(1, 100, 5))\n",
    "ks.index = range(1, 100, 5)\n",
    "test_errs = ks.apply(get_f1_score)\n",
    "\n",
    "test_errs.plot.line()\n",
    "test_errs.sort_values(ascending=False).head()"
   ]
  },
  {
   "cell_type": "code",
   "execution_count": 12,
   "metadata": {},
   "outputs": [
    {
     "data": {
      "text/plain": [
       "array([ True, False, False, False, False, False, False, False, False])"
      ]
     },
     "execution_count": 12,
     "metadata": {},
     "output_type": "execute_result"
    }
   ],
   "source": [
    "year = 2012\n",
    "knn(year, 16)"
   ]
  },
  {
   "cell_type": "code",
   "execution_count": 13,
   "metadata": {},
   "outputs": [
    {
     "data": {
      "text/plain": [
       "191    0.900036\n",
       "101    0.900036\n",
       "31     0.900036\n",
       "41     0.900036\n",
       "51     0.900036\n",
       "dtype: float64"
      ]
     },
     "execution_count": 13,
     "metadata": {},
     "output_type": "execute_result"
    },
    {
     "data": {
      "image/png": "[encoded data removed]",
      "text/plain": [
       "<Figure size 432x288 with 1 Axes>"
      ]
     },
     "metadata": {
      "needs_background": "light"
     },
     "output_type": "display_data"
    }
   ],
   "source": [
    "features = [\"BAFTA\", \"NBRA\", \"SATELLITE\", \"DGA\", \"GOLDENGLOBE\"]\n",
    "ks = pd.Series(range(1, 200, 10))\n",
    "ks.index = range(1, 200, 10)\n",
    "test_errs = ks.apply(get_accuracy_rand_forest)\n",
    "\n",
    "test_errs.plot.line()\n",
    "test_errs.sort_values(ascending=False).head()"
   ]
  },
  {
   "cell_type": "markdown",
   "metadata": {},
   "source": [
    "Using the data from all the other years, we will now attempt to predict what movie won the best oscar for a particular year. "
   ]
  },
  {
   "cell_type": "code",
   "execution_count": 17,
   "metadata": {},
   "outputs": [
    {
     "data": {
      "text/plain": [
       "array([False, False, False, False, False,  True, False, False, False])"
      ]
     },
     "execution_count": 17,
     "metadata": {},
     "output_type": "execute_result"
    }
   ],
   "source": [
    "features = [\"BAFTA\", \"NBRA\", \"SATELLITE\", \"DGA\", \"GOLDENGLOBE\", \"imdbRating\"]\n",
    "year = 2018\n",
    "randomForest(year)"
   ]
  },
  {
   "cell_type": "code",
   "execution_count": null,
   "metadata": {},
   "outputs": [],
   "source": []
  },
  {
   "cell_type": "code",
   "execution_count": null,
   "metadata": {},
   "outputs": [],
   "source": []
  }
 ],
 "metadata": {
  "kernelspec": {
   "display_name": "Python 3",
   "language": "python",
   "name": "python3"
  },
  "language_info": {
   "codemirror_mode": {
    "name": "ipython",
    "version": 3
   },
   "file_extension": ".py",
   "mimetype": "text/x-python",
   "name": "python",
   "nbconvert_exporter": "python",
   "pygments_lexer": "ipython3",
   "version": "3.7.1"
  }
 },
 "nbformat": 4,
 "nbformat_minor": 2
}
